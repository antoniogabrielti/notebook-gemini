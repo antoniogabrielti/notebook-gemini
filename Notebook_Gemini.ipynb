{
  "nbformat": 4,
  "nbformat_minor": 0,
  "metadata": {
    "colab": {
      "provenance": [],
      "authorship_tag": "ABX9TyN0EbLjsPoKWOJ2qrQNkuDI",
      "include_colab_link": true
    },
    "kernelspec": {
      "name": "python3",
      "display_name": "Python 3"
    },
    "language_info": {
      "name": "python"
    }
  },
  "cells": [
    {
      "cell_type": "markdown",
      "metadata": {
        "id": "view-in-github",
        "colab_type": "text"
      },
      "source": [
        "<a href=\"https://colab.research.google.com/github/antoniogabrielti/notebook-gemini/blob/main/Notebook_Gemini.ipynb\" target=\"_parent\"><img src=\"https://colab.research.google.com/assets/colab-badge.svg\" alt=\"Open In Colab\"/></a>"
      ]
    },
    {
      "cell_type": "markdown",
      "source": [
        "Instalando o SDK do Google"
      ],
      "metadata": {
        "id": "wkqiny5pn8eh"
      }
    },
    {
      "cell_type": "code",
      "execution_count": 1,
      "metadata": {
        "id": "LZFyCdKAlPvi"
      },
      "outputs": [],
      "source": [
        "!pip install -q -U google-generativeai"
      ]
    },
    {
      "cell_type": "code",
      "source": [
        "# Import the Python SDK\n",
        "import google.generativeai as genai\n",
        "from google.colab import userdata\n",
        "\n",
        "GOOGLE_API_KEY = userdata.get('GEMINI_API_KEY')\n",
        "genai.configure(api_key=GOOGLE_API_KEY)"
      ],
      "metadata": {
        "id": "DCKAz3vaoEKJ"
      },
      "execution_count": 2,
      "outputs": []
    },
    {
      "cell_type": "markdown",
      "source": [
        "Listar os modelos disponiveis"
      ],
      "metadata": {
        "id": "yM5sRtt9oXWu"
      }
    },
    {
      "cell_type": "code",
      "source": [
        "for m in genai.list_models():\n",
        "  if 'generateContent' in m.supported_generation_methods:\n",
        "    print(m.name)"
      ],
      "metadata": {
        "colab": {
          "base_uri": "https://localhost:8080/",
          "height": 142
        },
        "id": "_yf70Z7Jogms",
        "outputId": "568a2755-b923-46ec-9fb3-a7126df99418"
      },
      "execution_count": 3,
      "outputs": [
        {
          "output_type": "stream",
          "name": "stdout",
          "text": [
            "models/gemini-1.0-pro\n",
            "models/gemini-1.0-pro-001\n",
            "models/gemini-1.0-pro-latest\n",
            "models/gemini-1.0-pro-vision-latest\n",
            "models/gemini-1.5-pro-latest\n",
            "models/gemini-pro\n",
            "models/gemini-pro-vision\n"
          ]
        }
      ]
    },
    {
      "cell_type": "code",
      "source": [
        "generation_config = {\n",
        "    \"candidate_count\": 1,\n",
        "    \"temperature\": 0.5\n",
        "}"
      ],
      "metadata": {
        "id": "CNmFiX8OqMS7"
      },
      "execution_count": null,
      "outputs": []
    },
    {
      "cell_type": "code",
      "source": [
        "safety_settings = {\n",
        "    \"HARASSMENT\": \"BLOCK_NONE\",\n",
        "    \"HATE\": \"BLOCK_NONE\",\n",
        "    \"SEXUAL\": \"BLOCK_NONE\",\n",
        "    \"DANGEROUS\": \"BLOCK_NONE\"\n",
        "}"
      ],
      "metadata": {
        "id": "BgtADKNCq0rm"
      },
      "execution_count": null,
      "outputs": []
    },
    {
      "cell_type": "markdown",
      "source": [
        "Iniciando o modelo generativo"
      ],
      "metadata": {
        "id": "BqQoKQMTsI8h"
      }
    },
    {
      "cell_type": "code",
      "source": [
        "model = genai.GenerativeModel(model_name=\"gemini-1.0-pro\", generation_config=generation_config, safety_settings=safety_settings)"
      ],
      "metadata": {
        "id": "hBzJl6eNrXsO"
      },
      "execution_count": null,
      "outputs": []
    },
    {
      "cell_type": "code",
      "source": [
        "model = genai.GenerativeModel(model_name=\"gemini-1.5-pro-latest\")"
      ],
      "metadata": {
        "id": "ZzLF0-af5UOZ"
      },
      "execution_count": 4,
      "outputs": []
    },
    {
      "cell_type": "code",
      "source": [
        "response = model.generate_content(\"Vamos aprender conteúdo sobre IA. Me dê sugestões.\")\n",
        "print(response.text)"
      ],
      "metadata": {
        "colab": {
          "base_uri": "https://localhost:8080/",
          "height": 912
        },
        "id": "zSmRqgvBsr-z",
        "outputId": "0087f777-48c2-4c25-dff8-dcd56738f6d8"
      },
      "execution_count": 5,
      "outputs": [
        {
          "output_type": "stream",
          "name": "stdout",
          "text": [
            "## Mergulhe no mundo da IA! 🤖🧠\n",
            "\n",
            "É ótimo saber seu interesse em IA! É um campo vasto e empolgante. Para te ajudar, preparei um guia com sugestões de aprendizado:\n",
            "\n",
            "**1. Comece com o básico:**\n",
            "\n",
            "* **Conceitos-chave:** \n",
            "    * O que é IA? Quais seus tipos (IA estreita, IA geral, superinteligência)?\n",
            "    * Áreas da IA (Machine Learning, Deep Learning, Processamento de Linguagem Natural, Visão computacional, Robótica)\n",
            "    * História da IA\n",
            "* **Recursos:**\n",
            "    * **Vídeos introdutórios:** Canais como Kurzgesagt, TED, CrashCourse oferecem explicações visuais e envolventes.\n",
            "    * **Artigos e blogs:** Sites como MIT Technology Review, The Verge, OpenAI blog  trazem notícias e análises sobre o campo. \n",
            "    * **Cursos online gratuitos:** Plataformas como Khan Academy, EdX, Coursera oferecem cursos introdutórios à IA.\n",
            "\n",
            "**2. Explore áreas específicas:**\n",
            "\n",
            "* **Machine Learning:** Aprenda sobre algoritmos, modelos preditivos, treinamento de dados e aplicações.\n",
            "* **Deep Learning:** Redes neurais, camadas, funções de ativação, arquiteturas populares (CNNs, RNNs, GANs).\n",
            "* **Processamento de Linguagem Natural (PNL):** Análise de sentimentos, tradução automática, chatbots, assistentes virtuais.\n",
            "* **Visão Computacional:** Reconhecimento facial, detecção de objetos, análise de imagens médicas.\n",
            "* **Robótica:** Controle de robôs, navegação autônoma, interação humano-robô.\n",
            "\n",
            "**3. Pratique com projetos:**\n",
            "\n",
            "* **Datasets:** Explore conjuntos de dados públicos (Kaggle, UCI Machine Learning Repository) para experimentar algoritmos de Machine Learning.\n",
            "* **Bibliotecas e frameworks:** Utilize ferramentas como TensorFlow, PyTorch, scikit-learn para construir seus próprios modelos.\n",
            "* **Tutoriais online:** Sites como Towards Data Science, Analytics Vidhya oferecem tutoriais práticos em diversas áreas da IA.\n",
            "\n",
            "**4. Aprofunde seu conhecimento:**\n",
            "\n",
            "* **Livros:** \"Inteligência Artificial: Uma Abordagem Moderna\" (Russell & Norvig) é um clássico. \"Deep Learning\" (Goodfellow, Bengio & Courville) é ideal para quem quer se aprofundar em redes neurais.\n",
            "* **Artigos científicos:** Plataformas como arXiv, Google Scholar disponibilizam pesquisas de ponta em IA.\n",
            "* **Comunidades online:** Participe de fóruns, grupos no Facebook, LinkedIn e Reddit para interagir com outros entusiastas e profissionais da área.\n",
            "\n",
            "**5. Considere as implicações éticas e sociais da IA:**\n",
            "\n",
            "* **Viés algorítmico:** Como identificar e mitigar o viés em sistemas de IA?\n",
            "* **Privacidade e segurança:** Como proteger dados pessoais em aplicações de IA?\n",
            "* **Impacto no mercado de trabalho:** Quais as possíveis consequências da automação para o futuro do trabalho?\n",
            "\n",
            "**Lembre-se:** \n",
            "\n",
            "* O aprendizado em IA é contínuo. \n",
            "* Comece com o básico e vá aumentando a complexidade gradualmente.\n",
            "* Pratique com projetos para consolidar seus conhecimentos.\n",
            "* Mantenha-se atualizado sobre as últimas novidades do campo.\n",
            "\n",
            "Com dedicação e curiosidade, você estará apto a navegar nesse mundo fascinante da inteligência artificial! 🚀\n"
          ]
        }
      ]
    },
    {
      "cell_type": "code",
      "source": [
        "chat = model.start_chat(history=[])"
      ],
      "metadata": {
        "id": "jREGr4svtG50"
      },
      "execution_count": 6,
      "outputs": []
    },
    {
      "cell_type": "code",
      "source": [
        "prompt = input(\"Esperando prompt: \")\n",
        "\n",
        "while prompt != \"fim\":\n",
        "  response = chat.send_message(prompt)\n",
        "  print(\"Resposta: \",response.text, \"\\n\")\n",
        "  prompt = input(\"Esperando prompt: \")"
      ],
      "metadata": {
        "colab": {
          "base_uri": "https://localhost:8080/",
          "height": 483
        },
        "id": "bFDuwNADvzs-",
        "outputId": "30d7bb9b-11cc-4e35-cdfe-35809649b7f8"
      },
      "execution_count": 7,
      "outputs": [
        {
          "name": "stdout",
          "output_type": "stream",
          "text": [
            "Esperando prompt: Qual a capital do Brasil?\n",
            "Resposta:  A capital do Brasil é **Brasília**. 🇧🇷 \n",
            " \n",
            "\n",
            "Esperando prompt: e qual a comida tipica de lá?\n",
            "Resposta:  Brasília, por ser uma cidade relativamente jovem e cosmopolita, não possui um prato único considerado \"típico\". No entanto, a culinária brasiliense reflete a diversidade cultural do país, com influências de diversas regiões. \n",
            "\n",
            "Aqui estão algumas opções que você pode encontrar e experimentar:\n",
            "\n",
            "* **Comida de boteco:** Brasília tem uma forte cultura de botecos, com petiscos como a famosa **coxinha**, o **pastel**, a **polenta frita** e o **empadão goiano**. \n",
            "* **Churrasco:** Como em muitas partes do Brasil, o churrasco é bastante popular, com cortes de carne variados e acompanhamentos como arroz, farofa, vinagrete e pão de alho.\n",
            "* **Pratos do Centro-Oeste:**  A influência da região Centro-Oeste é notável, com pratos como o **arroz com pequi**, o **empadão goiano** e a **galinhada**.\n",
            "* **Gastronomia internacional:** Devido à presença de embaixadas e organismos internacionais, Brasília oferece uma variedade de restaurantes com cozinhas de todo o mundo.\n",
            "\n",
            "**Dicas para experimentar a culinária brasiliense:**\n",
            "\n",
            "* **Feira da Torre de TV:** Aos domingos, a feira oferece barracas de comida com opções variadas, de acarajé baiano a comida japonesa.\n",
            "* **Mercado Municipal:**  Um ótimo local para encontrar ingredientes típicos e experimentar a culinária local.\n",
            "* **Setor de Clubes Sul:** Concentra diversos restaurantes com diferentes propostas gastronômicas.\n",
            "* **Asa Norte e Asa Sul:** Nestes setores, você encontrará diversos bares e restaurantes com opções para todos os gostos.\n",
            "\n",
            "**Lembre-se:** A experiência gastronômica em Brasília é diversificada, então explore e descubra seus sabores preferidos! \n",
            " \n",
            "\n",
            "Esperando prompt: fim\n"
          ]
        }
      ]
    },
    {
      "cell_type": "code",
      "source": [
        "chat.history"
      ],
      "metadata": {
        "colab": {
          "base_uri": "https://localhost:8080/"
        },
        "collapsed": true,
        "id": "0lrmxEGowEFf",
        "outputId": "1ca80e1e-dac7-4409-97f1-7c8d9830917c"
      },
      "execution_count": 8,
      "outputs": [
        {
          "output_type": "execute_result",
          "data": {
            "text/plain": [
              "[parts {\n",
              "   text: \"Qual a capital do Brasil?\"\n",
              " }\n",
              " role: \"user\",\n",
              " parts {\n",
              "   text: \"A capital do Brasil \\303\\251 **Bras\\303\\255lia**. \\360\\237\\207\\247\\360\\237\\207\\267 \\n\"\n",
              " }\n",
              " role: \"model\",\n",
              " parts {\n",
              "   text: \"e qual a comida tipica de l\\303\\241?\"\n",
              " }\n",
              " role: \"user\",\n",
              " parts {\n",
              "   text: \"Bras\\303\\255lia, por ser uma cidade relativamente jovem e cosmopolita, n\\303\\243o possui um prato \\303\\272nico considerado \\\"t\\303\\255pico\\\". No entanto, a culin\\303\\241ria brasiliense reflete a diversidade cultural do pa\\303\\255s, com influ\\303\\252ncias de diversas regi\\303\\265es. \\n\\nAqui est\\303\\243o algumas op\\303\\247\\303\\265es que voc\\303\\252 pode encontrar e experimentar:\\n\\n* **Comida de boteco:** Bras\\303\\255lia tem uma forte cultura de botecos, com petiscos como a famosa **coxinha**, o **pastel**, a **polenta frita** e o **empad\\303\\243o goiano**. \\n* **Churrasco:** Como em muitas partes do Brasil, o churrasco \\303\\251 bastante popular, com cortes de carne variados e acompanhamentos como arroz, farofa, vinagrete e p\\303\\243o de alho.\\n* **Pratos do Centro-Oeste:**  A influ\\303\\252ncia da regi\\303\\243o Centro-Oeste \\303\\251 not\\303\\241vel, com pratos como o **arroz com pequi**, o **empad\\303\\243o goiano** e a **galinhada**.\\n* **Gastronomia internacional:** Devido \\303\\240 presen\\303\\247a de embaixadas e organismos internacionais, Bras\\303\\255lia oferece uma variedade de restaurantes com cozinhas de todo o mundo.\\n\\n**Dicas para experimentar a culin\\303\\241ria brasiliense:**\\n\\n* **Feira da Torre de TV:** Aos domingos, a feira oferece barracas de comida com op\\303\\247\\303\\265es variadas, de acaraj\\303\\251 baiano a comida japonesa.\\n* **Mercado Municipal:**  Um \\303\\263timo local para encontrar ingredientes t\\303\\255picos e experimentar a culin\\303\\241ria local.\\n* **Setor de Clubes Sul:** Concentra diversos restaurantes com diferentes propostas gastron\\303\\264micas.\\n* **Asa Norte e Asa Sul:** Nestes setores, voc\\303\\252 encontrar\\303\\241 diversos bares e restaurantes com op\\303\\247\\303\\265es para todos os gostos.\\n\\n**Lembre-se:** A experi\\303\\252ncia gastron\\303\\264mica em Bras\\303\\255lia \\303\\251 diversificada, ent\\303\\243o explore e descubra seus sabores preferidos! \\n\"\n",
              " }\n",
              " role: \"model\"]"
            ]
          },
          "metadata": {},
          "execution_count": 8
        }
      ]
    },
    {
      "cell_type": "code",
      "source": [],
      "metadata": {
        "id": "I7zYzIOpyPa3"
      },
      "execution_count": null,
      "outputs": []
    }
  ]
}